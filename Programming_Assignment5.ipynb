{
 "cells": [
  {
   "cell_type": "raw",
   "id": "aa9d0fe1",
   "metadata": {},
   "source": [
    "1. Write a Python Program to Find LCM?"
   ]
  },
  {
   "cell_type": "code",
   "execution_count": 36,
   "id": "be12df54",
   "metadata": {},
   "outputs": [
    {
     "name": "stdout",
     "output_type": "stream",
     "text": [
      "enter first number :12\n",
      "enter second number :14\n",
      "LCM of12 and 14 is 84\n"
     ]
    }
   ],
   "source": [
    "n1=int(input(\"enter first number :\"))\n",
    "n2=int(input(\"enter second number :\"))\n",
    "for i in range(2,max(n1,n2)):\n",
    "    if n1%i==n2%i==0:\n",
    "        hcf=i\n",
    "        \n",
    "lcm=(n1*n2)//hcf\n",
    "print(\"LCM of{} and {} is {}\".format(n1,n2,lcm))\n",
    "        "
   ]
  },
  {
   "cell_type": "raw",
   "id": "2629b2f3",
   "metadata": {},
   "source": [
    "2. Write a Python Program to Find HCF?"
   ]
  },
  {
   "cell_type": "code",
   "execution_count": 34,
   "id": "2a570eb2",
   "metadata": {},
   "outputs": [
    {
     "name": "stdout",
     "output_type": "stream",
     "text": [
      "enter first number :12\n",
      "enter second number :24\n",
      "HCF of 12 and 24 is :12\n"
     ]
    }
   ],
   "source": [
    "n1=int(input(\"enter first number :\"))\n",
    "n2=int(input(\"enter second number :\"))\n",
    "for i in range(1,max(n1,n2)):\n",
    "    if n1%i==n2%i==0:\n",
    "        hcf=i\n",
    "print(\"HCF of {} and {} is :{}\".format(n1,n2,hcf))"
   ]
  },
  {
   "cell_type": "raw",
   "id": "5cd7c341",
   "metadata": {},
   "source": [
    "3. Write a Python Program to Convert Decimal to Binary, Octal and Hexadecimal?"
   ]
  },
  {
   "cell_type": "code",
   "execution_count": 23,
   "id": "3b344b75",
   "metadata": {},
   "outputs": [
    {
     "name": "stdout",
     "output_type": "stream",
     "text": [
      "Enter a Number: 172\n",
      "Binary of 172: 0b10101100\n",
      "Octal of 172: 0o254\n",
      "Hexadecimal of 172: 0xac\n"
     ]
    }
   ],
   "source": [
    "n=int(input(\"Enter a Number: \"))\n",
    "print(\"Binary of {}: {}\".format(n, bin(n)))\n",
    "print(\"Octal of {}: {}\".format(n, oct(n)))\n",
    "print(\"Hexadecimal of {}: {}\".format(n, hex(n)))\n",
    "\n"
   ]
  },
  {
   "cell_type": "raw",
   "id": "f37f3fdb",
   "metadata": {},
   "source": [
    "4. Write a Python Program To Find ASCII value of a character?"
   ]
  },
  {
   "cell_type": "code",
   "execution_count": 17,
   "id": "57be511c",
   "metadata": {},
   "outputs": [
    {
     "name": "stdout",
     "output_type": "stream",
     "text": [
      "Enter a String: beyon\n",
      "b  -->  98\n",
      "e  -->  101\n",
      "y  -->  121\n",
      "o  -->  111\n",
      "n  -->  110\n"
     ]
    }
   ],
   "source": [
    "s=input(\"Enter a String: \")\n",
    "for i in s:\n",
    "    print(i,\" --> \",ord(i))\n"
   ]
  },
  {
   "cell_type": "raw",
   "id": "d85650ec",
   "metadata": {},
   "source": [
    "5. Write a Python Program to Make a Simple Calculator with 4 basic mathematical operations?"
   ]
  },
  {
   "cell_type": "code",
   "execution_count": 7,
   "id": "262ef0df",
   "metadata": {},
   "outputs": [],
   "source": [
    "class calc:\n",
    "    \n",
    "        \n",
    "    def add(self):\n",
    "        self.a=float(input(\"Enter first Number:\"))\n",
    "        self.b=float(input(\"Enter second Number:\"))\n",
    "        print(\"Sum= \",self.a+self.b)\n",
    "    def sub(self):\n",
    "        self.a=float(input(\"Enter first Number:\"))\n",
    "        self.b=float(input(\"Enter second Number:\"))\n",
    "        print(\"Diff= \",self.a-self.b)\n",
    "    def div(self):\n",
    "        self.a=float(input(\"Enter first Number:\"))\n",
    "        self.b=float(input(\"Enter second Number:\"))\n",
    "        print(\"Div= \",self.a/self.b)\n",
    "    def mul(self):\n",
    "        self.a=float(input(\"Enter first Number:\"))\n",
    "        self.b=float(input(\"Enter second Number:\"))\n",
    "        print(\"Prod= \",self.a*self.b)\n",
    "        "
   ]
  },
  {
   "cell_type": "code",
   "execution_count": 9,
   "id": "d742670e",
   "metadata": {},
   "outputs": [
    {
     "name": "stdout",
     "output_type": "stream",
     "text": [
      "Enter first Number:4\n",
      "Enter second Number:5\n",
      "Sum=  9.0\n",
      "Enter first Number:45\n",
      "Enter second Number:54\n",
      "Diff=  -9.0\n",
      "Enter first Number:90\n",
      "Enter second Number:9\n",
      "Div=  10.0\n",
      "Enter first Number:4\n",
      "Enter second Number:5\n",
      "Prod=  20.0\n"
     ]
    }
   ],
   "source": [
    "c=calc()\n",
    "c.add()\n",
    "c.sub()\n",
    "c.div()\n",
    "c.mul()"
   ]
  },
  {
   "cell_type": "code",
   "execution_count": 25,
   "id": "4b0ea394",
   "metadata": {},
   "outputs": [
    {
     "name": "stdout",
     "output_type": "stream",
     "text": [
      "Enter a number:600\n",
      "DC"
     ]
    }
   ],
   "source": [
    "n=int(input(\"Enter a number:\"))  # 99\n",
    "if(n<=0):\n",
    "\tprint(\"{} is invalid input\".format(n))\n",
    "else:\n",
    "\twhile(n>=1000):\n",
    "\t\tprint(\"M\",end=\"\")\n",
    "\t\tn=n-1000\n",
    "\tif(n>=900):\n",
    "\t\tprint(\"CM\",end=\"\")\n",
    "\t\tn=n-900\n",
    "\tif(n>=500):\n",
    "\t\tprint(\"D\",end=\"\")\n",
    "\t\tn=n-500\n",
    "\tif(n>=400):\n",
    "\t\tprint(\"CD\",end=\"\")\n",
    "\t\tn=n-400\n",
    "\twhile(n>=100):\n",
    "\t\tprint(\"C\",end=\"\")\n",
    "\t\tn=n-100\n",
    "\tif(n>=90):\n",
    "\t\tprint(\"XC\",end=\"\")\n",
    "\t\tn=n-90\n",
    "\tif(n>=50):\n",
    "\t\tprint(\"L\",end=\"\")\n",
    "\t\tn=n-50\n",
    "\tif(n>=40):\n",
    "\t\tprint(\"XL\",end=\"\")\n",
    "\t\tn=n-40\n",
    "\twhile(n>=10):\n",
    "\t\tprint(\"X\",end=\"\")\n",
    "\t\tn=n-10\n",
    "\tif(n>=9):\n",
    "\t\tprint(\"IX\",end=\"\")\n",
    "\t\tn=n-9\n",
    "\tif(n>=5):\n",
    "\t\tprint(\"V\",end=\"\")\n",
    "\t\tn=n-5\n",
    "\tif(n>=4):\n",
    "\t\tprint(\"IV\",end=\"\")\n",
    "\t\tn=n-4\n",
    "\twhile(n>=1):\n",
    "\t\tprint(\"I\",end=\"\")\n",
    "\t\tn=n-1"
   ]
  }
 ],
 "metadata": {
  "kernelspec": {
   "display_name": "Python 3 (ipykernel)",
   "language": "python",
   "name": "python3"
  },
  "language_info": {
   "codemirror_mode": {
    "name": "ipython",
    "version": 3
   },
   "file_extension": ".py",
   "mimetype": "text/x-python",
   "name": "python",
   "nbconvert_exporter": "python",
   "pygments_lexer": "ipython3",
   "version": "3.9.12"
  }
 },
 "nbformat": 4,
 "nbformat_minor": 5
}
